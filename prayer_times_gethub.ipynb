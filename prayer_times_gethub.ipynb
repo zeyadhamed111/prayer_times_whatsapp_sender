{
 "cells": [
  {
   "cell_type": "markdown",
   "id": "b5aea3a0",
   "metadata": {},
   "source": [
    "## Installing Modules"
   ]
  },
  {
   "cell_type": "code",
   "execution_count": null,
   "id": "4e9cd2d4",
   "metadata": {},
   "outputs": [],
   "source": [
    "pip install requests\n",
    "pip install pywhatkit\n",
    "pip install time\n",
    "pip install json\n",
    "pip install pyautogui"
   ]
  },
  {
   "cell_type": "markdown",
   "id": "3d9de94c",
   "metadata": {},
   "source": [
    "##  Importing Modules"
   ]
  },
  {
   "cell_type": "code",
   "execution_count": 3,
   "id": "59cb5992",
   "metadata": {},
   "outputs": [],
   "source": [
    "import requests\n",
    "import pywhatkit\n",
    "import time\n",
    "import json\n",
    "import pyautogui"
   ]
  },
  {
   "cell_type": "markdown",
   "id": "562fb973",
   "metadata": {},
   "source": [
    "## The main code :"
   ]
  },
  {
   "cell_type": "code",
   "execution_count": 12,
   "id": "2c189fcb",
   "metadata": {},
   "outputs": [],
   "source": [
    "def prayer_time() :\n",
    "    \n",
    "    \n",
    "    #Rrequirements\n",
    "    \n",
    "    address = \"Enter your address here\"\n",
    "    \n",
    "    phone_numbers = [\"\"] # you can set one number or more as you want\n",
    "                         # the phone numbers should be with the country code\n",
    "    \n",
    "    \n",
    "    #Getting Azan Times\n",
    "    \n",
    "    url = \"https://aladhan.p.rapidapi.com/timingsByAddress\"\n",
    "     \n",
    "\n",
    "    querystring = {\"address\":address}\n",
    "    \n",
    "\n",
    "    headers = {\n",
    "        \"X-RapidAPI-Key\": \"b8b91f8369msh6917b12ed809faap1907b4jsnf8c17ce3de33\",\n",
    "        \"X-RapidAPI-Host\": \"aladhan.p.rapidapi.com\"\n",
    "    }\n",
    "\n",
    "    response = requests.request(\"GET\", url, headers=headers, params=querystring)\n",
    "\n",
    "    #Read Azan times as json \n",
    "    \n",
    "    json_api = json.loads(response.text)\n",
    "    \n",
    "    #Defining Azan Times to variables\n",
    "    #The Timings will be in 24-hour format,\n",
    "    #if you want it in 12-hour format you can Subtracts 12 from the timings that you want it in 12-hour format.\n",
    "\n",
    "    fajr = json_api['data']['timings']['Fajr']\n",
    "    \n",
    "    duhr = json_api['data']['timings']['Dhuhr']\n",
    "\n",
    "    asr =  json_api['data']['timings']['Asr']\n",
    "\n",
    "    maghrib =  json_api['data']['timings']['Maghrib']\n",
    "    \n",
    "    isha = json_api['data']['timings']['Isha']\n",
    "\n",
    "    sunrise = json_api['data']['timings']['Sunrise']\n",
    "    \n",
    "    #Setting Azan Times Message\n",
    "    \n",
    "    salah_time = [fajr , sunrise, duhr, asr, maghrib, isha]\n",
    "    salah_name =[\"Fajr\", \"Sunrise\", \"Duhr\", \"Asr\", \"Maghrib\", \"Isha\"]\n",
    "    message_list = []\n",
    "    index = 0\n",
    "    msg = \"\"\n",
    "\n",
    "    for salah in salah_time :\n",
    "        message = \"The \" + salah_name[index] + \" Today is : \" + salah + \" 🌑✨ \\n\\n\"\n",
    "        message_list.append(message)\n",
    "        index += 1 \n",
    "    \n",
    "    for m in message_list :\n",
    "        msg+=m\n",
    "    \n",
    "    \n",
    "    #sending the message\n",
    "    \n",
    "    for num in phone_numbers :\n",
    "        \n",
    "        pywhatkit.sendwhatmsg_instantly(num, msg )\n",
    "\n",
    "        time.sleep(1)\n",
    "\n",
    "        pyautogui.click()\n",
    "\n",
    "        pyautogui.press('Enter')\n",
    "    \n",
    "    "
   ]
  },
  {
   "cell_type": "markdown",
   "id": "a8bfc65e",
   "metadata": {},
   "source": [
    "## Run the function"
   ]
  },
  {
   "cell_type": "code",
   "execution_count": 5,
   "id": "5ebaab7a",
   "metadata": {},
   "outputs": [],
   "source": [
    "prayer_time()"
   ]
  }
 ],
 "metadata": {
  "kernelspec": {
   "display_name": "Python 3 (ipykernel)",
   "language": "python",
   "name": "python3"
  },
  "language_info": {
   "codemirror_mode": {
    "name": "ipython",
    "version": 3
   },
   "file_extension": ".py",
   "mimetype": "text/x-python",
   "name": "python",
   "nbconvert_exporter": "python",
   "pygments_lexer": "ipython3",
   "version": "3.10.9"
  }
 },
 "nbformat": 4,
 "nbformat_minor": 5
}
